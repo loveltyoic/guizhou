{
 "cells": [
  {
   "cell_type": "code",
   "execution_count": 2,
   "metadata": {
    "collapsed": false
   },
   "outputs": [
    {
     "name": "stderr",
     "output_type": "stream",
     "text": [
      "/root/anaconda2/lib/python2.7/site-packages/sklearn/cross_validation.py:44: DeprecationWarning: This module was deprecated in version 0.18 in favor of the model_selection module into which all the refactored classes and functions are moved. Also note that the interface of the new CV iterators are different from that of this module. This module will be removed in 0.20.\n",
      "  \"This module will be removed in 0.20.\", DeprecationWarning)\n",
      "Using TensorFlow backend.\n"
     ]
    }
   ],
   "source": [
    "import xgboost as xgb\n",
    "from util import *\n",
    "import numpy as np\n",
    "import pandas as pd\n",
    "%load_ext autoreload\n",
    "%autoreload 2"
   ]
  },
  {
   "cell_type": "markdown",
   "metadata": {},
   "source": [
    "# Load Data"
   ]
  },
  {
   "cell_type": "code",
   "execution_count": 25,
   "metadata": {
    "collapsed": false
   },
   "outputs": [],
   "source": [
    "trainX, trainY, trainIdx, trainTimestamp, trainForward, trainEmbedding = \\\n",
    "    read_cache('CACHE/train_real_back3_forward1_slide15.h5')\n",
    "    \n",
    "cvX, cvY, cvIdx, cvTimestamp, cvForward, cvEmbedding = \\\n",
    "    read_cache('CACHE/cv_real_back3_forward1_slide15.h5')"
   ]
  },
  {
   "cell_type": "code",
   "execution_count": 26,
   "metadata": {
    "collapsed": false
   },
   "outputs": [
    {
     "data": {
      "text/plain": [
       "((10126, 3, 4), (10126, 1), (10126, 1), (10126,), (10126,), (10126, 8))"
      ]
     },
     "execution_count": 26,
     "metadata": {},
     "output_type": "execute_result"
    }
   ],
   "source": [
    "trainX.shape, trainY.shape, trainIdx.shape, trainTimestamp.shape, trainForward.shape, trainEmbedding.shape"
   ]
  },
  {
   "cell_type": "code",
   "execution_count": 27,
   "metadata": {
    "collapsed": false,
    "scrolled": true
   },
   "outputs": [
    {
     "data": {
      "text/plain": [
       "((750, 3, 4), (750, 1), (750, 1), (750,), (750,), (750, 8))"
      ]
     },
     "execution_count": 27,
     "metadata": {},
     "output_type": "execute_result"
    }
   ],
   "source": [
    "cvX.shape, cvY.shape, cvIdx.shape, cvTimestamp.shape, cvForward.shape, cvEmbedding.shape"
   ]
  },
  {
   "cell_type": "code",
   "execution_count": 31,
   "metadata": {
    "collapsed": false,
    "scrolled": true
   },
   "outputs": [
    {
     "name": "stdout",
     "output_type": "stream",
     "text": [
      "[0]\tval-rmse:0.208776\ttrain-rmse:0.241985\n",
      "[1]\tval-rmse:0.183591\ttrain-rmse:0.19553\n",
      "[2]\tval-rmse:0.179554\ttrain-rmse:0.1743\n",
      "[3]\tval-rmse:0.179679\ttrain-rmse:0.163902\n",
      "[4]\tval-rmse:0.179301\ttrain-rmse:0.157711\n",
      "[5]\tval-rmse:0.177678\ttrain-rmse:0.153152\n",
      "[6]\tval-rmse:0.175298\ttrain-rmse:0.149333\n",
      "[7]\tval-rmse:0.172348\ttrain-rmse:0.145864\n",
      "[8]\tval-rmse:0.169142\ttrain-rmse:0.142625\n",
      "[9]\tval-rmse:0.165848\ttrain-rmse:0.13956\n",
      "[10]\tval-rmse:0.162543\ttrain-rmse:0.136636\n",
      "[11]\tval-rmse:0.159364\ttrain-rmse:0.13386\n",
      "[12]\tval-rmse:0.156273\ttrain-rmse:0.131211\n",
      "[13]\tval-rmse:0.153319\ttrain-rmse:0.128685\n",
      "[14]\tval-rmse:0.1505\ttrain-rmse:0.126278\n",
      "[15]\tval-rmse:0.147845\ttrain-rmse:0.12399\n",
      "[16]\tval-rmse:0.145314\ttrain-rmse:0.121808\n",
      "[17]\tval-rmse:0.1429\ttrain-rmse:0.119725\n",
      "[18]\tval-rmse:0.140638\ttrain-rmse:0.117749\n",
      "[19]\tval-rmse:0.138496\ttrain-rmse:0.115868\n",
      "[20]\tval-rmse:0.136444\ttrain-rmse:0.114068\n",
      "[21]\tval-rmse:0.134512\ttrain-rmse:0.112356\n",
      "[22]\tval-rmse:0.132699\ttrain-rmse:0.110731\n",
      "[23]\tval-rmse:0.13098\ttrain-rmse:0.109182\n",
      "[24]\tval-rmse:0.129361\ttrain-rmse:0.107712\n",
      "[25]\tval-rmse:0.127833\ttrain-rmse:0.106314\n",
      "[26]\tval-rmse:0.126393\ttrain-rmse:0.104987\n",
      "[27]\tval-rmse:0.125043\ttrain-rmse:0.103729\n",
      "[28]\tval-rmse:0.123766\ttrain-rmse:0.102533\n",
      "[29]\tval-rmse:0.122579\ttrain-rmse:0.101402\n",
      "[30]\tval-rmse:0.121452\ttrain-rmse:0.100327\n",
      "[31]\tval-rmse:0.120396\ttrain-rmse:0.099307\n",
      "[32]\tval-rmse:0.119407\ttrain-rmse:0.098342\n",
      "[33]\tval-rmse:0.118474\ttrain-rmse:0.097425\n",
      "[34]\tval-rmse:0.117597\ttrain-rmse:0.096556\n",
      "[35]\tval-rmse:0.116774\ttrain-rmse:0.095733\n",
      "[36]\tval-rmse:0.115998\ttrain-rmse:0.094951\n",
      "[37]\tval-rmse:0.11528\ttrain-rmse:0.094213\n",
      "[38]\tval-rmse:0.114598\ttrain-rmse:0.093511\n",
      "[39]\tval-rmse:0.113961\ttrain-rmse:0.092847\n",
      "[40]\tval-rmse:0.113368\ttrain-rmse:0.09222\n",
      "[41]\tval-rmse:0.112809\ttrain-rmse:0.091625\n",
      "[42]\tval-rmse:0.112285\ttrain-rmse:0.091061\n",
      "[43]\tval-rmse:0.111794\ttrain-rmse:0.090527\n",
      "[44]\tval-rmse:0.111341\ttrain-rmse:0.090023\n",
      "[45]\tval-rmse:0.11092\ttrain-rmse:0.089547\n",
      "[46]\tval-rmse:0.11052\ttrain-rmse:0.089094\n",
      "[47]\tval-rmse:0.110145\ttrain-rmse:0.088665\n",
      "[48]\tval-rmse:0.109801\ttrain-rmse:0.08826\n",
      "[49]\tval-rmse:0.109475\ttrain-rmse:0.087876\n",
      "[50]\tval-rmse:0.109169\ttrain-rmse:0.08751\n",
      "[51]\tval-rmse:0.108882\ttrain-rmse:0.087164\n",
      "[52]\tval-rmse:0.108617\ttrain-rmse:0.086836\n",
      "[53]\tval-rmse:0.108374\ttrain-rmse:0.086527\n",
      "[54]\tval-rmse:0.108143\ttrain-rmse:0.086233\n",
      "[55]\tval-rmse:0.107926\ttrain-rmse:0.085954\n",
      "[56]\tval-rmse:0.107724\ttrain-rmse:0.085689\n",
      "[57]\tval-rmse:0.107536\ttrain-rmse:0.085438\n",
      "[58]\tval-rmse:0.107359\ttrain-rmse:0.085199\n",
      "[59]\tval-rmse:0.107197\ttrain-rmse:0.084972\n",
      "[60]\tval-rmse:0.107044\ttrain-rmse:0.084757\n",
      "[61]\tval-rmse:0.1069\ttrain-rmse:0.084552\n",
      "[62]\tval-rmse:0.106766\ttrain-rmse:0.084357\n",
      "[63]\tval-rmse:0.10664\ttrain-rmse:0.084172\n",
      "[64]\tval-rmse:0.106522\ttrain-rmse:0.083995\n",
      "[65]\tval-rmse:0.106413\ttrain-rmse:0.083826\n",
      "[66]\tval-rmse:0.10631\ttrain-rmse:0.083666\n",
      "[67]\tval-rmse:0.106214\ttrain-rmse:0.083512\n",
      "[68]\tval-rmse:0.106123\ttrain-rmse:0.083366\n",
      "[69]\tval-rmse:0.106039\ttrain-rmse:0.083226\n",
      "[70]\tval-rmse:0.105959\ttrain-rmse:0.083093\n",
      "[71]\tval-rmse:0.105885\ttrain-rmse:0.082965\n",
      "[72]\tval-rmse:0.105814\ttrain-rmse:0.082842\n",
      "[73]\tval-rmse:0.105749\ttrain-rmse:0.082725\n",
      "[74]\tval-rmse:0.105689\ttrain-rmse:0.082614\n",
      "[75]\tval-rmse:0.105631\ttrain-rmse:0.082507\n",
      "[76]\tval-rmse:0.105578\ttrain-rmse:0.082404\n",
      "[77]\tval-rmse:0.105527\ttrain-rmse:0.082305\n",
      "[78]\tval-rmse:0.105478\ttrain-rmse:0.08221\n",
      "[79]\tval-rmse:0.105433\ttrain-rmse:0.082119\n",
      "[80]\tval-rmse:0.105391\ttrain-rmse:0.082032\n",
      "[81]\tval-rmse:0.10535\ttrain-rmse:0.081947\n",
      "[82]\tval-rmse:0.105311\ttrain-rmse:0.081865\n",
      "[83]\tval-rmse:0.105276\ttrain-rmse:0.081787\n",
      "[84]\tval-rmse:0.105241\ttrain-rmse:0.081711\n",
      "[85]\tval-rmse:0.105209\ttrain-rmse:0.081638\n",
      "[86]\tval-rmse:0.105178\ttrain-rmse:0.081568\n",
      "[87]\tval-rmse:0.105148\ttrain-rmse:0.081499\n",
      "[88]\tval-rmse:0.105121\ttrain-rmse:0.081433\n",
      "[89]\tval-rmse:0.105094\ttrain-rmse:0.081369\n",
      "[90]\tval-rmse:0.105068\ttrain-rmse:0.081307\n",
      "[91]\tval-rmse:0.105044\ttrain-rmse:0.081247\n",
      "[92]\tval-rmse:0.10502\ttrain-rmse:0.081188\n",
      "[93]\tval-rmse:0.104998\ttrain-rmse:0.081131\n",
      "[94]\tval-rmse:0.104976\ttrain-rmse:0.081076\n",
      "[95]\tval-rmse:0.104955\ttrain-rmse:0.081022\n",
      "[96]\tval-rmse:0.104935\ttrain-rmse:0.08097\n",
      "[97]\tval-rmse:0.104916\ttrain-rmse:0.080919\n",
      "[98]\tval-rmse:0.104897\ttrain-rmse:0.080869\n",
      "[99]\tval-rmse:0.10488\ttrain-rmse:0.080821\n",
      "[100]\tval-rmse:0.104862\ttrain-rmse:0.080774\n",
      "[101]\tval-rmse:0.104845\ttrain-rmse:0.080728\n",
      "[102]\tval-rmse:0.104829\ttrain-rmse:0.080683\n",
      "[103]\tval-rmse:0.104813\ttrain-rmse:0.080639\n",
      "[104]\tval-rmse:0.104798\ttrain-rmse:0.080596\n",
      "[105]\tval-rmse:0.104783\ttrain-rmse:0.080553\n",
      "[106]\tval-rmse:0.104768\ttrain-rmse:0.080512\n",
      "[107]\tval-rmse:0.104754\ttrain-rmse:0.080472\n",
      "[108]\tval-rmse:0.10474\ttrain-rmse:0.080432\n",
      "[109]\tval-rmse:0.104726\ttrain-rmse:0.080393\n",
      "[110]\tval-rmse:0.104713\ttrain-rmse:0.080355\n",
      "[111]\tval-rmse:0.1047\ttrain-rmse:0.080318\n",
      "[112]\tval-rmse:0.104687\ttrain-rmse:0.080281\n",
      "[113]\tval-rmse:0.104674\ttrain-rmse:0.080245\n",
      "[114]\tval-rmse:0.104662\ttrain-rmse:0.080209\n",
      "[115]\tval-rmse:0.10465\ttrain-rmse:0.080174\n",
      "[116]\tval-rmse:0.104638\ttrain-rmse:0.08014\n",
      "[117]\tval-rmse:0.104627\ttrain-rmse:0.080107\n",
      "[118]\tval-rmse:0.104615\ttrain-rmse:0.080073\n",
      "[119]\tval-rmse:0.104604\ttrain-rmse:0.080041\n",
      "[120]\tval-rmse:0.104592\ttrain-rmse:0.080009\n",
      "[121]\tval-rmse:0.104581\ttrain-rmse:0.079977\n",
      "[122]\tval-rmse:0.104571\ttrain-rmse:0.079946\n",
      "[123]\tval-rmse:0.10456\ttrain-rmse:0.079915\n",
      "[124]\tval-rmse:0.104549\ttrain-rmse:0.079885\n",
      "[125]\tval-rmse:0.104539\ttrain-rmse:0.079855\n",
      "[126]\tval-rmse:0.104529\ttrain-rmse:0.079825\n",
      "[127]\tval-rmse:0.104519\ttrain-rmse:0.079796\n",
      "[128]\tval-rmse:0.104509\ttrain-rmse:0.079767\n",
      "[129]\tval-rmse:0.104499\ttrain-rmse:0.079739\n",
      "[130]\tval-rmse:0.104489\ttrain-rmse:0.079711\n",
      "[131]\tval-rmse:0.104479\ttrain-rmse:0.079683\n",
      "[132]\tval-rmse:0.10447\ttrain-rmse:0.079656\n",
      "[133]\tval-rmse:0.10446\ttrain-rmse:0.079629\n",
      "[134]\tval-rmse:0.104451\ttrain-rmse:0.079603\n",
      "[135]\tval-rmse:0.104442\ttrain-rmse:0.079576\n",
      "[136]\tval-rmse:0.104433\ttrain-rmse:0.07955\n",
      "[137]\tval-rmse:0.104424\ttrain-rmse:0.079525\n",
      "[138]\tval-rmse:0.104415\ttrain-rmse:0.079499\n",
      "[139]\tval-rmse:0.104406\ttrain-rmse:0.079474\n",
      "[140]\tval-rmse:0.104398\ttrain-rmse:0.079449\n",
      "[141]\tval-rmse:0.104389\ttrain-rmse:0.079425\n",
      "[142]\tval-rmse:0.104381\ttrain-rmse:0.0794\n",
      "[143]\tval-rmse:0.104373\ttrain-rmse:0.079376\n",
      "[144]\tval-rmse:0.104364\ttrain-rmse:0.079353\n",
      "[145]\tval-rmse:0.104356\ttrain-rmse:0.079329\n",
      "[146]\tval-rmse:0.104348\ttrain-rmse:0.079306\n",
      "[147]\tval-rmse:0.10434\ttrain-rmse:0.079283\n",
      "[148]\tval-rmse:0.104333\ttrain-rmse:0.07926\n",
      "[149]\tval-rmse:0.104325\ttrain-rmse:0.079238\n",
      "[150]\tval-rmse:0.104317\ttrain-rmse:0.079215\n",
      "[151]\tval-rmse:0.10431\ttrain-rmse:0.079193\n",
      "[152]\tval-rmse:0.104303\ttrain-rmse:0.079172\n",
      "[153]\tval-rmse:0.104295\ttrain-rmse:0.07915\n",
      "[154]\tval-rmse:0.104288\ttrain-rmse:0.079128\n",
      "[155]\tval-rmse:0.104281\ttrain-rmse:0.079107\n",
      "[156]\tval-rmse:0.104274\ttrain-rmse:0.079086\n",
      "[157]\tval-rmse:0.104267\ttrain-rmse:0.079066\n",
      "[158]\tval-rmse:0.10426\ttrain-rmse:0.079045\n",
      "[159]\tval-rmse:0.104254\ttrain-rmse:0.079025\n",
      "[160]\tval-rmse:0.104247\ttrain-rmse:0.079004\n",
      "[161]\tval-rmse:0.104241\ttrain-rmse:0.078984\n",
      "[162]\tval-rmse:0.104234\ttrain-rmse:0.078965\n",
      "[163]\tval-rmse:0.104228\ttrain-rmse:0.078945\n",
      "[164]\tval-rmse:0.104222\ttrain-rmse:0.078926\n",
      "[165]\tval-rmse:0.104216\ttrain-rmse:0.078906\n",
      "[166]\tval-rmse:0.10421\ttrain-rmse:0.078887\n",
      "[167]\tval-rmse:0.104204\ttrain-rmse:0.078868\n",
      "[168]\tval-rmse:0.104198\ttrain-rmse:0.07885\n",
      "[169]\tval-rmse:0.104192\ttrain-rmse:0.078831\n",
      "[170]\tval-rmse:0.104187\ttrain-rmse:0.078813\n",
      "[171]\tval-rmse:0.104181\ttrain-rmse:0.078795\n",
      "[172]\tval-rmse:0.104176\ttrain-rmse:0.078777\n",
      "[173]\tval-rmse:0.10417\ttrain-rmse:0.078759\n",
      "[174]\tval-rmse:0.104165\ttrain-rmse:0.078741\n",
      "[175]\tval-rmse:0.10416\ttrain-rmse:0.078724\n",
      "[176]\tval-rmse:0.104155\ttrain-rmse:0.078706\n",
      "[177]\tval-rmse:0.10415\ttrain-rmse:0.078689\n",
      "[178]\tval-rmse:0.104145\ttrain-rmse:0.078672\n",
      "[179]\tval-rmse:0.10414\ttrain-rmse:0.078655\n",
      "[180]\tval-rmse:0.104136\ttrain-rmse:0.078638\n",
      "[181]\tval-rmse:0.104131\ttrain-rmse:0.078622\n",
      "[182]\tval-rmse:0.104127\ttrain-rmse:0.078605\n",
      "[183]\tval-rmse:0.104122\ttrain-rmse:0.078589\n",
      "[184]\tval-rmse:0.104118\ttrain-rmse:0.078573\n",
      "[185]\tval-rmse:0.104114\ttrain-rmse:0.078557\n",
      "[186]\tval-rmse:0.104109\ttrain-rmse:0.078541\n",
      "[187]\tval-rmse:0.104105\ttrain-rmse:0.078525\n",
      "[188]\tval-rmse:0.104101\ttrain-rmse:0.07851\n",
      "[189]\tval-rmse:0.104097\ttrain-rmse:0.078494\n",
      "[190]\tval-rmse:0.104094\ttrain-rmse:0.078479\n",
      "[191]\tval-rmse:0.10409\ttrain-rmse:0.078464\n",
      "[192]\tval-rmse:0.104086\ttrain-rmse:0.078449\n",
      "[193]\tval-rmse:0.104083\ttrain-rmse:0.078434\n",
      "[194]\tval-rmse:0.104079\ttrain-rmse:0.078419\n",
      "[195]\tval-rmse:0.104076\ttrain-rmse:0.078404\n",
      "[196]\tval-rmse:0.104073\ttrain-rmse:0.07839\n",
      "[197]\tval-rmse:0.104069\ttrain-rmse:0.078375\n",
      "[198]\tval-rmse:0.104066\ttrain-rmse:0.078361\n",
      "[199]\tval-rmse:0.104063\ttrain-rmse:0.078347\n"
     ]
    }
   ],
   "source": [
    "# train = np.hstack((trainX.reshape((len(trainX), -1)), trainForward.reshape(-1, 1), trainEmbedding))\n",
    "# cv = np.hstack((cvX.reshape((len(cvX), -1)), cvForward.reshape(-1, 1), cvEmbedding))\n",
    "train = trainX.reshape((trainX.shape[0], -1))\n",
    "cv = cvX.reshape((cvX.shape[0], -1))\n",
    "dtrain = xgb.DMatrix(train, missing = -999.0, label= trainY)\n",
    "dcv = xgb.DMatrix(cv, missing= -999.0, label=cvY)\n",
    "\n",
    "watchlist = [ (dcv,'val'), (dtrain, 'train') ]\n",
    "\n",
    "\n",
    "param = {'nthread': 8,\n",
    "         'booster': 'gblinear',\n",
    "         \"objective\": \"reg:linear\",\n",
    "         \"eval_metric\": \"rmse\", \"eta\":  0.05,\n",
    "         \"max_depth\": 6,\n",
    "         \"min_child_weight\": 1,\n",
    "         \"gamma\": 0.1,\n",
    "         \"lambda\": 0.5,\n",
    "         \"alpha\": 0.5,\n",
    "         \"scale_pos_weight\": 1,\n",
    "         \"subsample\": 1,\n",
    "         'early_stopping_rounds':100}\n",
    "\n",
    "num_round = 200\n",
    "bst = xgb.train(param, dtrain, num_round, evals=watchlist)\n",
    "\n",
    "bst.save_model(\"MODEL/xgb\")\n",
    "\n",
    "# test = np.load(\"data_fs/test.npy\")\n",
    "\n"
   ]
  },
  {
   "cell_type": "code",
   "execution_count": 32,
   "metadata": {
    "collapsed": false
   },
   "outputs": [
    {
     "name": "stdout",
     "output_type": "stream",
     "text": [
      "cv mape: 0.668333411217\n"
     ]
    },
    {
     "data": {
      "text/plain": [
       "0.66833341"
      ]
     },
     "execution_count": 32,
     "metadata": {},
     "output_type": "execute_result"
    }
   ],
   "source": [
    "predict= bst.predict(dcv).reshape(-1, 1)\n",
    "index = cvY[:, 0]>0\n",
    "evaluate(predict[index], cvY[index], cvIdx[index], cvTimestamp[index], cvForward[index])"
   ]
  },
  {
   "cell_type": "code",
   "execution_count": null,
   "metadata": {
    "collapsed": true
   },
   "outputs": [],
   "source": []
  }
 ],
 "metadata": {
  "kernelspec": {
   "display_name": "Python 2",
   "language": "python",
   "name": "python2"
  },
  "language_info": {
   "codemirror_mode": {
    "name": "ipython",
    "version": 2
   },
   "file_extension": ".py",
   "mimetype": "text/x-python",
   "name": "python",
   "nbconvert_exporter": "python",
   "pygments_lexer": "ipython2",
   "version": "2.7.13"
  }
 },
 "nbformat": 4,
 "nbformat_minor": 2
}
