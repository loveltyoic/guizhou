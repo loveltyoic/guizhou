{
 "cells": [
  {
   "cell_type": "code",
   "execution_count": 1,
   "metadata": {
    "collapsed": false
   },
   "outputs": [],
   "source": [
    "import h5py\n",
    "import numpy as np\n",
    "import pandas as pd\n",
    "# f = h5py.File(\"travel_time.hdf5\", \"w\")"
   ]
  },
  {
   "cell_type": "code",
   "execution_count": 2,
   "metadata": {
    "collapsed": false
   },
   "outputs": [
    {
     "name": "stderr",
     "output_type": "stream",
     "text": [
      "Using TensorFlow backend.\n"
     ]
    }
   ],
   "source": [
    "from util import *\n",
    "%load_ext autoreload\n",
    "%autoreload 2"
   ]
  },
  {
   "cell_type": "code",
   "execution_count": null,
   "metadata": {
    "collapsed": false
   },
   "outputs": [],
   "source": [
    "dataset = load_dataset()"
   ]
  },
  {
   "cell_type": "code",
   "execution_count": null,
   "metadata": {
    "collapsed": false
   },
   "outputs": [],
   "source": [
    "f = h5py.File(\"travel_time_second.hdf5\", \"w\")\n",
    "for n, g in dataset.groupby('link'):\n",
    "    g.index = g.dt\n",
    "    g = g.sort_index()\n",
    "    history_mean = g.groupby([lambda x: (x.isoweekday(), x.hour, x.minute)])['travel_time'].mean()\n",
    "\n",
    "    hour_minute_mean = g.groupby([lambda x: (x.hour, x.minute)])['travel_time'].mean()\n",
    "    \n",
    "    hour_mean = g.groupby([lambda x: (x.hour)])['travel_time'].mean()\n",
    "\n",
    "    travel_time_feature = g['travel_time'].describe()\n",
    "\n",
    "    train_test_split_date = ['20170301', '20170525', '20170531']\n",
    "    train, cv = g[train_test_split_date[0]:train_test_split_date[1]], \\\n",
    "                g[train_test_split_date[1]:train_test_split_date[2]]\n",
    "    \n",
    "    test = g['20170601':'20170630']\n",
    "    train_ds, train_ts = load_data(train, travel_time_feature, history_mean, hour_minute_mean, hour_mean)\n",
    "    cv_ds, cv_ts = load_data(cv, travel_time_feature, history_mean, hour_minute_mean, hour_mean,\n",
    "                            datetime(2017, 5, 25), datetime(2017, 5, 31))\n",
    "    f.create_group(n)\n",
    "    f[n].create_group('train')\n",
    "    f[n].create_group('test')\n",
    "    f[n].create_group('cv')\n",
    "    f[n]['cv'].create_dataset('data', data=np.array(cv_ds))\n",
    "    f[n]['cv'].create_dataset('time', data=np.array(cv_ts))\n",
    "    f[n]['train'].create_dataset('data', data=np.array(train_ds))\n",
    "    f[n]['train'].create_dataset('time', data=np.array(train_ts))\n",
    "    \n",
    "    test_ds, test_ts = load_data(test, travel_time_feature, history_mean, \n",
    "                             hour_minute_mean, hour_mean, datetime(2017, 6, 1, 6), datetime(2017, 6, 30, 9))\n",
    "    f[n]['test'].create_dataset('data', data=np.array(test_ds))\n",
    "    f[n]['test'].create_dataset('time', data=np.array(test_ts))\n",
    "    \n",
    "f.close()"
   ]
  },
  {
   "cell_type": "code",
   "execution_count": 20,
   "metadata": {
    "collapsed": false
   },
   "outputs": [
    {
     "data": {
      "text/html": [
       "<div>\n",
       "<table border=\"1\" class=\"dataframe\">\n",
       "  <thead>\n",
       "    <tr style=\"text-align: right;\">\n",
       "      <th></th>\n",
       "      <th>link</th>\n",
       "      <th>date</th>\n",
       "      <th>interval</th>\n",
       "      <th>travel_time</th>\n",
       "      <th>dt</th>\n",
       "    </tr>\n",
       "    <tr>\n",
       "      <th>dt</th>\n",
       "      <th></th>\n",
       "      <th></th>\n",
       "      <th></th>\n",
       "      <th></th>\n",
       "      <th></th>\n",
       "    </tr>\n",
       "  </thead>\n",
       "  <tbody>\n",
       "    <tr>\n",
       "      <th>2017-03-01 00:00:00</th>\n",
       "      <td>3377906282328510514</td>\n",
       "      <td>2017-03-01</td>\n",
       "      <td>[2017-03-01 00:00:00,2017-03-01 00:02:00)</td>\n",
       "      <td>3.0</td>\n",
       "      <td>2017-03-01 00:00:00</td>\n",
       "    </tr>\n",
       "    <tr>\n",
       "      <th>2017-03-01 00:02:00</th>\n",
       "      <td>3377906282328510514</td>\n",
       "      <td>2017-03-01</td>\n",
       "      <td>[2017-03-01 00:02:00,2017-03-01 00:04:00)</td>\n",
       "      <td>3.0</td>\n",
       "      <td>2017-03-01 00:02:00</td>\n",
       "    </tr>\n",
       "    <tr>\n",
       "      <th>2017-03-01 00:04:00</th>\n",
       "      <td>3377906282328510514</td>\n",
       "      <td>2017-03-01</td>\n",
       "      <td>[2017-03-01 00:04:00,2017-03-01 00:06:00)</td>\n",
       "      <td>3.1</td>\n",
       "      <td>2017-03-01 00:04:00</td>\n",
       "    </tr>\n",
       "    <tr>\n",
       "      <th>2017-03-01 00:08:00</th>\n",
       "      <td>3377906282328510514</td>\n",
       "      <td>2017-03-01</td>\n",
       "      <td>[2017-03-01 00:08:00,2017-03-01 00:10:00)</td>\n",
       "      <td>2.4</td>\n",
       "      <td>2017-03-01 00:08:00</td>\n",
       "    </tr>\n",
       "    <tr>\n",
       "      <th>2017-03-01 00:10:00</th>\n",
       "      <td>3377906282328510514</td>\n",
       "      <td>2017-03-01</td>\n",
       "      <td>[2017-03-01 00:10:00,2017-03-01 00:12:00)</td>\n",
       "      <td>2.4</td>\n",
       "      <td>2017-03-01 00:10:00</td>\n",
       "    </tr>\n",
       "  </tbody>\n",
       "</table>\n",
       "</div>"
      ],
      "text/plain": [
       "                                    link       date  \\\n",
       "dt                                                    \n",
       "2017-03-01 00:00:00  3377906282328510514 2017-03-01   \n",
       "2017-03-01 00:02:00  3377906282328510514 2017-03-01   \n",
       "2017-03-01 00:04:00  3377906282328510514 2017-03-01   \n",
       "2017-03-01 00:08:00  3377906282328510514 2017-03-01   \n",
       "2017-03-01 00:10:00  3377906282328510514 2017-03-01   \n",
       "\n",
       "                                                      interval  travel_time  \\\n",
       "dt                                                                            \n",
       "2017-03-01 00:00:00  [2017-03-01 00:00:00,2017-03-01 00:02:00)          3.0   \n",
       "2017-03-01 00:02:00  [2017-03-01 00:02:00,2017-03-01 00:04:00)          3.0   \n",
       "2017-03-01 00:04:00  [2017-03-01 00:04:00,2017-03-01 00:06:00)          3.1   \n",
       "2017-03-01 00:08:00  [2017-03-01 00:08:00,2017-03-01 00:10:00)          2.4   \n",
       "2017-03-01 00:10:00  [2017-03-01 00:10:00,2017-03-01 00:12:00)          2.4   \n",
       "\n",
       "                                     dt  \n",
       "dt                                       \n",
       "2017-03-01 00:00:00 2017-03-01 00:00:00  \n",
       "2017-03-01 00:02:00 2017-03-01 00:02:00  \n",
       "2017-03-01 00:04:00 2017-03-01 00:04:00  \n",
       "2017-03-01 00:08:00 2017-03-01 00:08:00  \n",
       "2017-03-01 00:10:00 2017-03-01 00:10:00  "
      ]
     },
     "execution_count": 20,
     "metadata": {},
     "output_type": "execute_result"
    }
   ],
   "source": [
    "train.head()"
   ]
  },
  {
   "cell_type": "code",
   "execution_count": 12,
   "metadata": {
    "collapsed": false
   },
   "outputs": [
    {
     "data": {
      "text/plain": [
       "(132,)"
      ]
     },
     "execution_count": 12,
     "metadata": {},
     "output_type": "execute_result"
    }
   ],
   "source": [
    "np.unique(dataset.link).shape"
   ]
  },
  {
   "cell_type": "code",
   "execution_count": null,
   "metadata": {
    "collapsed": true
   },
   "outputs": [],
   "source": []
  },
  {
   "cell_type": "code",
   "execution_count": 133,
   "metadata": {
    "collapsed": false
   },
   "outputs": [
    {
     "data": {
      "text/plain": [
       "5.7459930313588847"
      ]
     },
     "execution_count": 133,
     "metadata": {},
     "output_type": "execute_result"
    }
   ],
   "source": [
    "g = dataset[dataset.link=='9377906285615510514']\n",
    "g.index = g.dt\n",
    "g.groupby([lambda x: (x.hour)])['travel_time'].mean()[9]"
   ]
  },
  {
   "cell_type": "code",
   "execution_count": 8,
   "metadata": {
    "collapsed": false
   },
   "outputs": [
    {
     "name": "stdout",
     "output_type": "stream",
     "text": [
      "[u'3377906280028510514', u'3377906280395510514', u'3377906281518510514', u'3377906281774510514']\n"
     ]
    }
   ],
   "source": [
    "f = h5py.File('travel_time_second.hdf5', 'r')\n",
    "print f.keys()\n",
    "f.close()"
   ]
  },
  {
   "cell_type": "code",
   "execution_count": null,
   "metadata": {
    "collapsed": true
   },
   "outputs": [],
   "source": [
    "f['9377906285566510514']['cv']['time'].value.shape"
   ]
  },
  {
   "cell_type": "code",
   "execution_count": null,
   "metadata": {
    "collapsed": false
   },
   "outputs": [],
   "source": [
    "train_ds, train_ts = load_data(train, travel_time_feature, history_mean, hour_minute_mean)"
   ]
  },
  {
   "cell_type": "code",
   "execution_count": 24,
   "metadata": {
    "collapsed": true
   },
   "outputs": [],
   "source": [
    "f.close()"
   ]
  },
  {
   "cell_type": "code",
   "execution_count": null,
   "metadata": {
    "collapsed": true
   },
   "outputs": [],
   "source": []
  }
 ],
 "metadata": {
  "kernelspec": {
   "display_name": "Python 2",
   "language": "python",
   "name": "python2"
  },
  "language_info": {
   "codemirror_mode": {
    "name": "ipython",
    "version": 2
   },
   "file_extension": ".py",
   "mimetype": "text/x-python",
   "name": "python",
   "nbconvert_exporter": "python",
   "pygments_lexer": "ipython2",
   "version": "2.7.13"
  }
 },
 "nbformat": 4,
 "nbformat_minor": 2
}
