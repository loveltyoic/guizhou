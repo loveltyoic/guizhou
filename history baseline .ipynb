{
 "cells": [
  {
   "cell_type": "markdown",
   "metadata": {},
   "source": [
    "# 历史平均"
   ]
  },
  {
   "cell_type": "code",
   "execution_count": 3,
   "metadata": {
    "collapsed": true
   },
   "outputs": [],
   "source": [
    "import pandas as pd\n",
    "import numpy as np\n",
    "from util import *\n",
    "%load_ext autoreload\n",
    "%autoreload 2"
   ]
  },
  {
   "cell_type": "code",
   "execution_count": 9,
   "metadata": {
    "collapsed": false
   },
   "outputs": [],
   "source": [
    "dataset = pd.read_csv(\"data/gy_contest_link_traveltime_training_data.txt\", delimiter=';', header=0, names=['link', 'date', 'interval', 'travel_time'], parse_dates=['date'])"
   ]
  },
  {
   "cell_type": "code",
   "execution_count": 18,
   "metadata": {
    "collapsed": true
   },
   "outputs": [],
   "source": [
    "info = pd.read_csv(\"data/gy_contest_link_info.txt\", delimiter=';')"
   ]
  },
  {
   "cell_type": "code",
   "execution_count": 22,
   "metadata": {
    "collapsed": false
   },
   "outputs": [
    {
     "data": {
      "text/plain": [
       "132"
      ]
     },
     "execution_count": 22,
     "metadata": {},
     "output_type": "execute_result"
    }
   ],
   "source": [
    "len(info.link_ID.values)"
   ]
  },
  {
   "cell_type": "code",
   "execution_count": 11,
   "metadata": {
    "collapsed": false
   },
   "outputs": [],
   "source": [
    "dataset['dt'] = dataset.interval.map(extract_dt)\n",
    "dataset.index = dataset.dt"
   ]
  },
  {
   "cell_type": "code",
   "execution_count": 23,
   "metadata": {
    "collapsed": false
   },
   "outputs": [
    {
     "data": {
      "text/html": [
       "<div>\n",
       "<table border=\"1\" class=\"dataframe\">\n",
       "  <thead>\n",
       "    <tr style=\"text-align: right;\">\n",
       "      <th></th>\n",
       "      <th>link</th>\n",
       "      <th>date</th>\n",
       "      <th>interval</th>\n",
       "      <th>travel_time</th>\n",
       "      <th>dt</th>\n",
       "    </tr>\n",
       "    <tr>\n",
       "      <th>dt</th>\n",
       "      <th></th>\n",
       "      <th></th>\n",
       "      <th></th>\n",
       "      <th></th>\n",
       "      <th></th>\n",
       "    </tr>\n",
       "  </thead>\n",
       "  <tbody>\n",
       "    <tr>\n",
       "      <th>2016-05-21 23:20:00</th>\n",
       "      <td>9377906285566510514</td>\n",
       "      <td>2016-05-21</td>\n",
       "      <td>[2016-05-21 23:20:00,2016-05-21 23:22:00)</td>\n",
       "      <td>17.6</td>\n",
       "      <td>2016-05-21 23:20:00</td>\n",
       "    </tr>\n",
       "    <tr>\n",
       "      <th>2016-05-21 18:46:00</th>\n",
       "      <td>3377906288228510514</td>\n",
       "      <td>2016-05-21</td>\n",
       "      <td>[2016-05-21 18:46:00,2016-05-21 18:48:00)</td>\n",
       "      <td>3.5</td>\n",
       "      <td>2016-05-21 18:46:00</td>\n",
       "    </tr>\n",
       "    <tr>\n",
       "      <th>2016-05-21 07:06:00</th>\n",
       "      <td>3377906284395510514</td>\n",
       "      <td>2016-05-21</td>\n",
       "      <td>[2016-05-21 07:06:00,2016-05-21 07:08:00)</td>\n",
       "      <td>10.0</td>\n",
       "      <td>2016-05-21 07:06:00</td>\n",
       "    </tr>\n",
       "    <tr>\n",
       "      <th>2016-05-21 14:34:00</th>\n",
       "      <td>4377906284959500514</td>\n",
       "      <td>2016-05-21</td>\n",
       "      <td>[2016-05-21 14:34:00,2016-05-21 14:36:00)</td>\n",
       "      <td>3.5</td>\n",
       "      <td>2016-05-21 14:34:00</td>\n",
       "    </tr>\n",
       "    <tr>\n",
       "      <th>2016-05-21 05:04:00</th>\n",
       "      <td>9377906282776510514</td>\n",
       "      <td>2016-05-21</td>\n",
       "      <td>[2016-05-21 05:04:00,2016-05-21 05:06:00)</td>\n",
       "      <td>1.5</td>\n",
       "      <td>2016-05-21 05:04:00</td>\n",
       "    </tr>\n",
       "    <tr>\n",
       "      <th>2016-05-21 16:04:00</th>\n",
       "      <td>3377906287674510514</td>\n",
       "      <td>2016-05-21</td>\n",
       "      <td>[2016-05-21 16:04:00,2016-05-21 16:06:00)</td>\n",
       "      <td>34.1</td>\n",
       "      <td>2016-05-21 16:04:00</td>\n",
       "    </tr>\n",
       "    <tr>\n",
       "      <th>2016-05-21 04:26:00</th>\n",
       "      <td>4377906288869500514</td>\n",
       "      <td>2016-05-21</td>\n",
       "      <td>[2016-05-21 04:26:00,2016-05-21 04:28:00)</td>\n",
       "      <td>9.5</td>\n",
       "      <td>2016-05-21 04:26:00</td>\n",
       "    </tr>\n",
       "    <tr>\n",
       "      <th>2016-05-21 10:36:00</th>\n",
       "      <td>4377906287959500514</td>\n",
       "      <td>2016-05-21</td>\n",
       "      <td>[2016-05-21 10:36:00,2016-05-21 10:38:00)</td>\n",
       "      <td>52.8</td>\n",
       "      <td>2016-05-21 10:36:00</td>\n",
       "    </tr>\n",
       "    <tr>\n",
       "      <th>2016-05-21 17:50:00</th>\n",
       "      <td>4377906285525800514</td>\n",
       "      <td>2016-05-21</td>\n",
       "      <td>[2016-05-21 17:50:00,2016-05-21 17:52:00)</td>\n",
       "      <td>16.7</td>\n",
       "      <td>2016-05-21 17:50:00</td>\n",
       "    </tr>\n",
       "    <tr>\n",
       "      <th>2016-05-21 14:40:00</th>\n",
       "      <td>4377906280241600514</td>\n",
       "      <td>2016-05-21</td>\n",
       "      <td>[2016-05-21 14:40:00,2016-05-21 14:42:00)</td>\n",
       "      <td>21.9</td>\n",
       "      <td>2016-05-21 14:40:00</td>\n",
       "    </tr>\n",
       "  </tbody>\n",
       "</table>\n",
       "</div>"
      ],
      "text/plain": [
       "                                    link       date  \\\n",
       "dt                                                    \n",
       "2016-05-21 23:20:00  9377906285566510514 2016-05-21   \n",
       "2016-05-21 18:46:00  3377906288228510514 2016-05-21   \n",
       "2016-05-21 07:06:00  3377906284395510514 2016-05-21   \n",
       "2016-05-21 14:34:00  4377906284959500514 2016-05-21   \n",
       "2016-05-21 05:04:00  9377906282776510514 2016-05-21   \n",
       "2016-05-21 16:04:00  3377906287674510514 2016-05-21   \n",
       "2016-05-21 04:26:00  4377906288869500514 2016-05-21   \n",
       "2016-05-21 10:36:00  4377906287959500514 2016-05-21   \n",
       "2016-05-21 17:50:00  4377906285525800514 2016-05-21   \n",
       "2016-05-21 14:40:00  4377906280241600514 2016-05-21   \n",
       "\n",
       "                                                      interval  travel_time  \\\n",
       "dt                                                                            \n",
       "2016-05-21 23:20:00  [2016-05-21 23:20:00,2016-05-21 23:22:00)         17.6   \n",
       "2016-05-21 18:46:00  [2016-05-21 18:46:00,2016-05-21 18:48:00)          3.5   \n",
       "2016-05-21 07:06:00  [2016-05-21 07:06:00,2016-05-21 07:08:00)         10.0   \n",
       "2016-05-21 14:34:00  [2016-05-21 14:34:00,2016-05-21 14:36:00)          3.5   \n",
       "2016-05-21 05:04:00  [2016-05-21 05:04:00,2016-05-21 05:06:00)          1.5   \n",
       "2016-05-21 16:04:00  [2016-05-21 16:04:00,2016-05-21 16:06:00)         34.1   \n",
       "2016-05-21 04:26:00  [2016-05-21 04:26:00,2016-05-21 04:28:00)          9.5   \n",
       "2016-05-21 10:36:00  [2016-05-21 10:36:00,2016-05-21 10:38:00)         52.8   \n",
       "2016-05-21 17:50:00  [2016-05-21 17:50:00,2016-05-21 17:52:00)         16.7   \n",
       "2016-05-21 14:40:00  [2016-05-21 14:40:00,2016-05-21 14:42:00)         21.9   \n",
       "\n",
       "                                     dt  \n",
       "dt                                       \n",
       "2016-05-21 23:20:00 2016-05-21 23:20:00  \n",
       "2016-05-21 18:46:00 2016-05-21 18:46:00  \n",
       "2016-05-21 07:06:00 2016-05-21 07:06:00  \n",
       "2016-05-21 14:34:00 2016-05-21 14:34:00  \n",
       "2016-05-21 05:04:00 2016-05-21 05:04:00  \n",
       "2016-05-21 16:04:00 2016-05-21 16:04:00  \n",
       "2016-05-21 04:26:00 2016-05-21 04:26:00  \n",
       "2016-05-21 10:36:00 2016-05-21 10:36:00  \n",
       "2016-05-21 17:50:00 2016-05-21 17:50:00  \n",
       "2016-05-21 14:40:00 2016-05-21 14:40:00  "
      ]
     },
     "execution_count": 23,
     "metadata": {},
     "output_type": "execute_result"
    }
   ],
   "source": [
    "dataset.head(10)"
   ]
  },
  {
   "cell_type": "code",
   "execution_count": 12,
   "metadata": {
    "collapsed": false,
    "scrolled": true
   },
   "outputs": [],
   "source": [
    "history_mean = dataset.groupby(['link', lambda x: (x.hour, x.minute)])['travel_time'].mean()"
   ]
  },
  {
   "cell_type": "code",
   "execution_count": 17,
   "metadata": {
    "collapsed": false
   },
   "outputs": [
    {
     "data": {
      "text/plain": [
       "6.3224489795918366"
      ]
     },
     "execution_count": 17,
     "metadata": {},
     "output_type": "execute_result"
    }
   ],
   "source": [
    "history_mean['3377906280028510514'][(8, 20)]"
   ]
  },
  {
   "cell_type": "code",
   "execution_count": 13,
   "metadata": {
    "collapsed": true
   },
   "outputs": [],
   "source": [
    "# 3377906280028510514#2016-06-01#[2016-06-01 08:00:00,2016-06-01 08:02:00)#7.35576923076923\n",
    "# 4377906289869500514#2016-06-01#[2016-06-01 08:00:00,2016-06-01 08:02:00)#7.197101"
   ]
  },
  {
   "cell_type": "code",
   "execution_count": 24,
   "metadata": {
    "collapsed": true
   },
   "outputs": [],
   "source": [
    "from datetime import datetime, timedelta"
   ]
  },
  {
   "cell_type": "code",
   "execution_count": 33,
   "metadata": {
    "collapsed": false
   },
   "outputs": [],
   "source": [
    "result_file = file('think_20170725.txt', 'w')\n",
    "for d in range(1, 31):\n",
    "    for link in info.link_ID.values:\n",
    "        for t in pd.date_range(datetime(2016, 6, d, 8), \n",
    "                               datetime(2016, 6, d, 9), closed='left', freq='2min'):\n",
    "            result_file.write(\"%s#%s#[%s,%s)#%f\\n\" % (link, \n",
    "                                                    datetime(2016, 6, d).strftime(\"%Y-%m-%d\"),\n",
    "                                                    t.strftime(\"%Y-%m-%d %H:%M:%S\"), \n",
    "                                                    (t+timedelta(minutes=2)).strftime(\"%Y-%m-%d %H:%M:%S\"),\n",
    "                                                    history_mean[link][(8, t.minute)]))"
   ]
  },
  {
   "cell_type": "code",
   "execution_count": 32,
   "metadata": {
    "collapsed": false
   },
   "outputs": [
    {
     "data": {
      "text/plain": [
       "94842"
      ]
     },
     "execution_count": 32,
     "metadata": {},
     "output_type": "execute_result"
    }
   ],
   "source": [
    "len(history_mean)"
   ]
  },
  {
   "cell_type": "code",
   "execution_count": null,
   "metadata": {
    "collapsed": true
   },
   "outputs": [],
   "source": []
  }
 ],
 "metadata": {
  "kernelspec": {
   "display_name": "Python 2",
   "language": "python",
   "name": "python2"
  },
  "language_info": {
   "codemirror_mode": {
    "name": "ipython",
    "version": 2
   },
   "file_extension": ".py",
   "mimetype": "text/x-python",
   "name": "python",
   "nbconvert_exporter": "python",
   "pygments_lexer": "ipython2",
   "version": "2.7.13"
  }
 },
 "nbformat": 4,
 "nbformat_minor": 2
}
