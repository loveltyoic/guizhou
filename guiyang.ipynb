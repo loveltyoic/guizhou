{
 "cells": [
  {
   "cell_type": "code",
   "execution_count": null,
   "metadata": {
    "collapsed": false
   },
   "outputs": [],
   "source": [
    "import pandas as pd\n",
    "import numpy as np\n",
    "from datetime import datetime, timedelta\n",
    "from util import *\n",
    "from STMatrix import STMatrix\n",
    "import cPickle as pickle\n",
    "%matplotlib inline\n",
    "import matplotlib.pyplot as plt\n",
    "plt.rc('figure', figsize=(20,10))\n",
    "%load_ext autoreload\n",
    "%autoreload 2\n",
    "import math\n",
    "import h5py\n",
    "from keras.models import Sequential\n",
    "from keras.layers import Dense, Dropout, Activation, Flatten, Lambda\n",
    "from keras.layers import LSTM, Input, Embedding, add, concatenate\n",
    "from keras.callbacks import EarlyStopping, ModelCheckpoint, TensorBoard\n",
    "from keras.models import Model\n",
    "from sklearn.preprocessing import MinMaxScaler\n",
    "from sklearn.metrics import mean_squared_error, mean_absolute_error\n",
    "import pandas as pd\n",
    "import numpy as np\n",
    "\n",
    "from sklearn.preprocessing import MinMaxScaler"
   ]
  },
  {
   "cell_type": "markdown",
   "metadata": {
    "collapsed": true
   },
   "source": [
    "# 道路属性表"
   ]
  },
  {
   "cell_type": "code",
   "execution_count": null,
   "metadata": {
    "collapsed": false
   },
   "outputs": [],
   "source": [
    "adj = pd.read_csv(\"data/gy_contest_link_top.txt\", delimiter=';', dtype={'in_links': np.str, 'out_links': str})\n",
    "adj = adj.fillna('')\n",
    "\n",
    "info = pd.read_csv(\"data/gy_contest_link_info.txt\", delimiter=';')\n",
    "\n",
    "info.head()"
   ]
  },
  {
   "cell_type": "markdown",
   "metadata": {},
   "source": [
    "# deepwalk embedding"
   ]
  },
  {
   "cell_type": "code",
   "execution_count": null,
   "metadata": {
    "collapsed": false
   },
   "outputs": [],
   "source": [
    "link_embeddings = pickle.load(file('link_embeddings.plk', 'rb'))"
   ]
  },
  {
   "cell_type": "markdown",
   "metadata": {},
   "source": [
    "# 读取hdf5"
   ]
  },
  {
   "cell_type": "code",
   "execution_count": null,
   "metadata": {
    "collapsed": true
   },
   "outputs": [],
   "source": [
    "f = h5py.File('travel_time_second.hdf5', 'r')"
   ]
  },
  {
   "cell_type": "code",
   "execution_count": null,
   "metadata": {
    "collapsed": true
   },
   "outputs": [],
   "source": [
    "# stage = 'sample'\n",
    "stage = 'real'"
   ]
  },
  {
   "cell_type": "markdown",
   "metadata": {
    "collapsed": true
   },
   "source": [
    "# LSTM"
   ]
  },
  {
   "cell_type": "code",
   "execution_count": null,
   "metadata": {
    "collapsed": true
   },
   "outputs": [],
   "source": [
    "minutes_per_slot = 2"
   ]
  },
  {
   "cell_type": "code",
   "execution_count": null,
   "metadata": {
    "collapsed": false
   },
   "outputs": [],
   "source": [
    "if stage == 'sample':\n",
    "    links = np.random.choice(f.keys(), 1)\n",
    "    links\n",
    "else:\n",
    "    links = f.keys()"
   ]
  },
  {
   "cell_type": "code",
   "execution_count": null,
   "metadata": {
    "collapsed": false
   },
   "outputs": [],
   "source": [
    "link2idx = dict(zip(links, range(len(links))))"
   ]
  },
  {
   "cell_type": "code",
   "execution_count": null,
   "metadata": {
    "collapsed": false
   },
   "outputs": [],
   "source": [
    "link2idx"
   ]
  },
  {
   "cell_type": "markdown",
   "metadata": {},
   "source": [
    "## 定义向前记忆和向后预测步长"
   ]
  },
  {
   "cell_type": "code",
   "execution_count": null,
   "metadata": {
    "collapsed": false
   },
   "outputs": [],
   "source": [
    "g_look_back = 60\n",
    "g_predict_forward = range(1, 15)\n",
    "slide = 3\n",
    "hypername = '{}_back{}_forward{}_slide{}'.format(\n",
    "    stage, g_look_back, len(g_predict_forward), slide)"
   ]
  },
  {
   "cell_type": "code",
   "execution_count": null,
   "metadata": {
    "collapsed": true
   },
   "outputs": [],
   "source": [
    "denoised = False"
   ]
  },
  {
   "cell_type": "markdown",
   "metadata": {},
   "source": [
    "## 构造训练集"
   ]
  },
  {
   "cell_type": "code",
   "execution_count": null,
   "metadata": {
    "collapsed": false
   },
   "outputs": [],
   "source": [
    "fname = create_target_set('train', links, f, hypername, info, link2idx, link_embeddings, \n",
    "                     g_look_back, g_predict_forward, slide, \n",
    "                    pd.date_range(datetime(2017,3,1), datetime(2017,5,30), freq='1d'),False, denoised)\n",
    "trainX, trainY, trainIdx, trainTimestamp, trainForward, trainEmbedding = read_cache(fname)"
   ]
  },
  {
   "cell_type": "code",
   "execution_count": null,
   "metadata": {
    "collapsed": false
   },
   "outputs": [],
   "source": [
    "trainX.shape, trainY.shape, trainIdx.shape, trainEmbedding.shape, trainForward.shape"
   ]
  },
  {
   "cell_type": "markdown",
   "metadata": {},
   "source": [
    "## 定义模型"
   ]
  },
  {
   "cell_type": "code",
   "execution_count": null,
   "metadata": {
    "collapsed": true
   },
   "outputs": [],
   "source": [
    "feature_selected = [0, 2, 3]"
   ]
  },
  {
   "cell_type": "code",
   "execution_count": null,
   "metadata": {
    "collapsed": false,
    "scrolled": false
   },
   "outputs": [],
   "source": [
    "model = build_model(trainX[:2, :,feature_selected], links)"
   ]
  },
  {
   "cell_type": "code",
   "execution_count": null,
   "metadata": {
    "collapsed": false
   },
   "outputs": [],
   "source": [
    "from keras.utils import plot_model\n",
    "plot_model(model, to_file='lstm.png', show_shapes=True)\n",
    "from IPython.display import Image, FileLink\n",
    "FileLink('lstm.png')"
   ]
  },
  {
   "cell_type": "code",
   "execution_count": null,
   "metadata": {
    "collapsed": false
   },
   "outputs": [],
   "source": [
    "batch_size = 30\n",
    "early_stopping = EarlyStopping(monitor='mean_absolute_error', patience=2, mode='min')\n",
    "model_checkpoint = ModelCheckpoint(\n",
    "        'MODEL/'+hypername+'_best.h5', monitor='mean_absolute_error', verbose=0, save_best_only=True, mode='min')\n",
    "tensorboard = TensorBoard()\n",
    "model.reset_states()\n",
    "# , trainEmbedding, trainForward"
   ]
  },
  {
   "cell_type": "markdown",
   "metadata": {},
   "source": [
    "# CV"
   ]
  },
  {
   "cell_type": "markdown",
   "metadata": {},
   "source": [
    "## 构造验证集"
   ]
  },
  {
   "cell_type": "code",
   "execution_count": null,
   "metadata": {
    "collapsed": false,
    "scrolled": true
   },
   "outputs": [],
   "source": [
    "cv_fname = create_target_set('cv', links, f, hypername, info, link2idx, link_embeddings, \n",
    "                     g_look_back, range(1, 31), slide, \n",
    "                    pd.date_range(datetime(2017,5,25), datetime(2017,5,30), freq='1d'),False, denoised)"
   ]
  },
  {
   "cell_type": "code",
   "execution_count": null,
   "metadata": {
    "collapsed": true
   },
   "outputs": [],
   "source": [
    "cvX, cvY, cvIdx, cvTimestamp, cvForward, cvEmbeddings = read_cache(cv_fname)"
   ]
  },
  {
   "cell_type": "code",
   "execution_count": 194,
   "metadata": {
    "collapsed": false
   },
   "outputs": [
    {
     "data": {
      "text/plain": [
       "((90700, 60, 4), (90700, 1))"
      ]
     },
     "execution_count": 194,
     "metadata": {},
     "output_type": "execute_result"
    }
   ],
   "source": [
    "cvX.shape, cvY.shape"
   ]
  },
  {
   "cell_type": "markdown",
   "metadata": {},
   "source": [
    "## 训练"
   ]
  },
  {
   "cell_type": "code",
   "execution_count": null,
   "metadata": {
    "collapsed": false,
    "scrolled": true
   },
   "outputs": [],
   "source": [
    "#  trainEmbedding, trainForward / 60.0\n",
    "model.lr = 1e-4\n",
    "model.fit([trainX[:, :, feature_selected], trainIdx, trainEmbedding], trainY, epochs=3, \n",
    "          batch_size=batch_size, verbose=1, shuffle=True, \n",
    "          validation_data=[[cvX[:, :, feature_selected], cvIdx, cvEmbeddings], cvY],\n",
    "          callbacks=[early_stopping])"
   ]
  },
  {
   "cell_type": "code",
   "execution_count": 195,
   "metadata": {
    "collapsed": false
   },
   "outputs": [
    {
     "name": "stdout",
     "output_type": "stream",
     "text": [
      "cv mape: 1.1029599905\n"
     ]
    },
    {
     "data": {
      "text/plain": [
       "1.10296"
      ]
     },
     "execution_count": 195,
     "metadata": {},
     "output_type": "execute_result"
    }
   ],
   "source": [
    "cvPredict = model.predict([cvX[:, :, feature_selected], cvIdx, cvEmbeddings]) #, cvEmbeddings, cvForward\n",
    "# cv_mape = evaluate(cvPredict, cvY, cvIdx, cvTimestamp, cvForward)\n",
    "cv_result = pd.DataFrame((np.hstack((cvPredict, cvY, \n",
    "                                         np.array(cvTimestamp).reshape(-1, 1), \n",
    "                                         np.array(cvForward).reshape(-1, 1),\n",
    "                                        np.array(cvIdx).reshape(-1, 1)))), \n",
    "                 columns=['predict', 'real', 'time', 'forward', 'link'])\n",
    "cv_result['predict'] = cv_result.predict.astype(np.float32)\n",
    "cv_result['real'] = cv_result.real.astype(np.float32)\n",
    "# cv_nearest = cv_result.groupby(['link', 'time']).apply(nearest)\n",
    "cv_nearest = cv_result\n",
    "predict = cv_nearest['predict'].values\n",
    "real = cv_nearest['real'].values\n",
    "cv_mape = mape(predict[real!=0], real[real!=0])\n",
    "print 'cv mape: {}'.format(cv_mape)\n",
    "# return cv_mape\n",
    "model_name = 'MODEL/{}_cv{}.h5'.format(hypername, cv_mape)\n",
    "model.save(model_name)\n",
    "cv_mape"
   ]
  },
  {
   "cell_type": "code",
   "execution_count": 196,
   "metadata": {
    "collapsed": false,
    "scrolled": false
   },
   "outputs": [
    {
     "data": {
      "text/plain": [
       "<matplotlib.axes._subplots.AxesSubplot at 0x7f576a82f810>"
      ]
     },
     "execution_count": 196,
     "metadata": {},
     "output_type": "execute_result"
    },
    {
     "data": {
      "image/png": "[encoded data removed]",
      "text/plain": [
       "<matplotlib.figure.Figure at 0x7f576a82f850>"
      ]
     },
     "metadata": {},
     "output_type": "display_data"
    }
   ],
   "source": [
    "fig = plt.figure()\n",
    "ax = fig.add_subplot(1,1,1,)\n",
    "# pd.DataFrame(all_predict, index=all_time).resample('20min').mean().plot(label='predict', ax=ax)\n",
    "# pd.DataFrame(all_Y, index=all_time).resample('20min').mean().plot(ax=ax)\n",
    "# length = 200\n",
    "# ax.plot(predict[:length], label=\"predict\")\n",
    "# ax.plot(real[:length], label=\"true\")\n",
    "ticks = [i * real.shape[0] / 10 for i in range(10)]\n",
    "ax.set_xticks(ticks)\n",
    "# ax.set_xticklabels([cvTimestamp[t] for t in ticks])\n",
    "# plt.legend(loc='best')\n",
    "# cv_nearest.plot(x=['predict'], y='time')\n",
    "cv_nearest.head(300).plot(y=['predict', 'real'], x='time', ax=ax)"
   ]
  },
  {
   "cell_type": "code",
   "execution_count": null,
   "metadata": {
    "collapsed": false,
    "scrolled": false
   },
   "outputs": [],
   "source": [
    "denoised_data = np.reshape(denoise(train[('201605230600'):('201605230900')].travel_time.values, 'db3', 4, 1, 4), (-1, 1))\n",
    "plt.plot(denoised_data, label='denoised')\n",
    "plt.plot(train[('201605210600'):('201605210900')].travel_time.values, label='raw')\n",
    "plt.legend(loc='best')"
   ]
  },
  {
   "cell_type": "markdown",
   "metadata": {},
   "source": [
    "# Test"
   ]
  },
  {
   "cell_type": "code",
   "execution_count": null,
   "metadata": {
    "collapsed": false
   },
   "outputs": [],
   "source": [
    "for link in links:\n",
    "    print link, f[link]['test']['time'].shape"
   ]
  },
  {
   "cell_type": "code",
   "execution_count": null,
   "metadata": {
    "collapsed": false
   },
   "outputs": [],
   "source": [
    "from keras.models import load_model\n",
    "model = load_model('MODEL/forward10.h5')"
   ]
  },
  {
   "cell_type": "code",
   "execution_count": null,
   "metadata": {
    "collapsed": false
   },
   "outputs": [],
   "source": [
    "plot_model(model, to_file='best.png', show_shapes=True)\n",
    "from IPython.display import Image, FileLink\n",
    "Image('best.png')"
   ]
  },
  {
   "cell_type": "code",
   "execution_count": null,
   "metadata": {
    "collapsed": false
   },
   "outputs": [],
   "source": [
    "f[link]['test']['data'].value"
   ]
  },
  {
   "cell_type": "code",
   "execution_count": 197,
   "metadata": {
    "collapsed": false
   },
   "outputs": [],
   "source": [
    "all_predict = []\n",
    "all_Y = []\n",
    "all_time = []\n",
    "all_test_forwards = []\n",
    "all_links = []\n",
    "\n",
    "for link in links:\n",
    "    test_ds, test_ts = f[link]['test']['data'].value, f[link]['test']['time'].value\n",
    "    length = info[info.link_ID==link]['length'].values[0]\n",
    "    scaler = MinMaxScaler(feature_range=(0,1))\n",
    "    test_ds[:, 0] = scaler.fit_transform((length / test_ds[:, 0]).reshape(-1, 1)).reshape(-1)\n",
    "#     test_ds = test_ds[:, [0, 2]]\n",
    "    for day in range(1, 31):\n",
    "        predict_window_start = datetime(2017, 6, day, 8, 0)\n",
    "        predict_window_end = predict_window_start + timedelta(minutes=59)\n",
    "\n",
    "        \n",
    "    #     train_window_start = datetime(2016, 5, day, hour, 0) - timedelta(hours=2)\n",
    "    #     train_window_end = train_window_start + timedelta(hours=1, minutes=59)\n",
    "\n",
    "        testX, testY, test_forwards, testYTime = create_dataset(length, test_ds, \n",
    "                                                              test_ts, \n",
    "                                                              predict_window_start, \n",
    "                                                              predict_window_end, \n",
    "                                                              1,                         \n",
    "                                                              minutes_per_slot, \n",
    "                                                              g_look_back, \n",
    "                                                              range(1, 31),True)\n",
    "        \n",
    "        testX = np.reshape(testX, (testX.shape[0], testX.shape[1], testX.shape[2]))\n",
    "        testIdx = np.ones((testX.shape[0], 1)) * link2idx[link]\n",
    "        testEmbeddings = np.array(link_embeddings[link]) * np.ones((testX.shape[0], 1))\n",
    "#         testPredict = model.predict([testX[:, :, feature_selected], testIdx, testEmbeddings, np.array(test_forwards) / 60.0])\n",
    "        testPredict = model.predict([testX[:, :, feature_selected], testIdx, testEmbeddings])\n",
    "        testPredict = scaler.inverse_transform(testPredict)\n",
    "        testPredict = length / testPredict\n",
    "        all_predict.append(testPredict)\n",
    "    #         all_time = cvYTime\n",
    "        all_test_forwards += test_forwards\n",
    "        all_time = all_time + list(np.reshape(testYTime, -1))\n",
    "        all_links += [link] * len(testX)\n",
    "all_predict = np.vstack(all_predict)\n",
    "# print \"cv MAPE: %f\" % (mape(all_predict, all_Y))"
   ]
  },
  {
   "cell_type": "code",
   "execution_count": 198,
   "metadata": {
    "collapsed": false
   },
   "outputs": [
    {
     "data": {
      "text/plain": [
       "(118800, (118800, 1), (118800, 1))"
      ]
     },
     "execution_count": 198,
     "metadata": {},
     "output_type": "execute_result"
    }
   ],
   "source": [
    "len(all_time), all_predict.shape, np.array(all_test_forwards).reshape(-1, 1).shape"
   ]
  },
  {
   "cell_type": "code",
   "execution_count": 199,
   "metadata": {
    "collapsed": false
   },
   "outputs": [],
   "source": [
    "test_result = pd.DataFrame((np.hstack((all_predict, np.array(all_time).reshape(-1, 1),\n",
    "                                      np.array(all_test_forwards).reshape(-1, 1),\n",
    "                                      np.array(all_links).reshape(-1, 1)))), \n",
    "             columns=['predict', 'time', 'forward', 'link'])\n",
    "# test_result.index=test_result.time\n",
    "test_result['predict'] = test_result.predict.astype(np.float32)"
   ]
  },
  {
   "cell_type": "code",
   "execution_count": 200,
   "metadata": {
    "collapsed": false
   },
   "outputs": [],
   "source": [
    "test_nearest = test_result.groupby(['link', 'time']).apply(nearest)"
   ]
  },
  {
   "cell_type": "code",
   "execution_count": 201,
   "metadata": {
    "collapsed": false
   },
   "outputs": [],
   "source": [
    "submission_name = \"credo_%s.txt\" % datetime.now().strftime('%Y%m%d')\n",
    "write_submission(test_nearest, file(submission_name, 'w'))"
   ]
  },
  {
   "cell_type": "code",
   "execution_count": 202,
   "metadata": {
    "collapsed": false
   },
   "outputs": [
    {
     "name": "stdout",
     "output_type": "stream",
     "text": [
      "checking link: 3377906280028510514\n",
      "link: 3377906280028510514 is complete\n",
      "checking link: 3377906280395510514\n",
      "link: 3377906280395510514 is complete\n",
      "checking link: 3377906281518510514\n",
      "link: 3377906281518510514 is complete\n",
      "checking link: 3377906281774510514\n",
      "link: 3377906281774510514 is complete\n",
      "checking link: 3377906282328510514\n",
      "link: 3377906282328510514 is complete\n",
      "checking link: 3377906282418510514\n",
      "link: 3377906282418510514 is complete\n",
      "checking link: 3377906283328510514\n",
      "link: 3377906283328510514 is complete\n",
      "checking link: 3377906284028510514\n",
      "link: 3377906284028510514 is complete\n",
      "checking link: 3377906284395510514\n",
      "link: 3377906284395510514 is complete\n",
      "checking link: 3377906285434510514\n",
      "link: 3377906285434510514 is complete\n",
      "checking link: 3377906285934510514\n",
      "link: 3377906285934510514 is complete\n",
      "checking link: 3377906286918510514\n",
      "link: 3377906286918510514 is complete\n",
      "checking link: 3377906287674510514\n",
      "link: 3377906287674510514 is complete\n",
      "checking link: 3377906287886510514\n",
      "link: 3377906287886510514 is complete\n",
      "checking link: 3377906287934510514\n",
      "link: 3377906287934510514 is complete\n",
      "checking link: 3377906288228510514\n",
      "link: 3377906288228510514 is complete\n",
      "checking link: 3377906289044510514\n",
      "link: 3377906289044510514 is complete\n",
      "checking link: 3377906289228510514\n",
      "link: 3377906289228510514 is complete\n",
      "checking link: 3377906289434510514\n",
      "link: 3377906289434510514 is complete\n",
      "checking link: 3377906289674510514\n",
      "link: 3377906289674510514 is complete\n",
      "checking link: 4377906280141600514\n",
      "link: 4377906280141600514 is complete\n",
      "checking link: 4377906280163800514\n",
      "link: 4377906280163800514 is complete\n",
      "checking link: 4377906280234600514\n",
      "link: 4377906280234600514 is complete\n",
      "checking link: 4377906280241600514\n",
      "link: 4377906280241600514 is complete\n",
      "checking link: 4377906280329500514\n",
      "link: 4377906280329500514 is complete\n",
      "checking link: 4377906280334600514\n",
      "link: 4377906280334600514 is complete\n",
      "checking link: 4377906280344800514\n",
      "link: 4377906280344800514 is complete\n",
      "checking link: 4377906280763800514\n",
      "link: 4377906280763800514 is complete\n",
      "checking link: 4377906280784800514\n",
      "link: 4377906280784800514 is complete\n",
      "checking link: 4377906280815800514\n",
      "link: 4377906280815800514 is complete\n",
      "checking link: 4377906280863800514\n",
      "link: 4377906280863800514 is complete\n",
      "checking link: 4377906280913600514\n",
      "link: 4377906280913600514 is complete\n",
      "checking link: 4377906280969500514\n",
      "link: 4377906280969500514 is complete\n",
      "checking link: 4377906281041600514\n",
      "link: 4377906281041600514 is complete\n",
      "checking link: 4377906281141600514\n",
      "link: 4377906281141600514 is complete\n",
      "checking link: 4377906281234600514\n",
      "link: 4377906281234600514 is complete\n",
      "checking link: 4377906281241600514\n",
      "link: 4377906281241600514 is complete\n",
      "checking link: 4377906281741600514\n",
      "link: 4377906281741600514 is complete\n",
      "checking link: 4377906281763800514\n",
      "link: 4377906281763800514 is complete\n",
      "checking link: 4377906281784800514\n",
      "link: 4377906281784800514 is complete\n",
      "checking link: 4377906281959500514\n",
      "link: 4377906281959500514 is complete\n",
      "checking link: 4377906281969500514\n",
      "link: 4377906281969500514 is complete\n",
      "checking link: 4377906282141600514\n",
      "link: 4377906282141600514 is complete\n",
      "checking link: 4377906282532600514\n",
      "link: 4377906282532600514 is complete\n",
      "checking link: 4377906282541600514\n",
      "link: 4377906282541600514 is complete\n",
      "checking link: 4377906282653600514\n",
      "link: 4377906282653600514 is complete\n",
      "checking link: 4377906282759500514\n",
      "link: 4377906282759500514 is complete\n",
      "checking link: 4377906282763800514\n",
      "link: 4377906282763800514 is complete\n",
      "checking link: 4377906282769500514\n",
      "link: 4377906282769500514 is complete\n",
      "checking link: 4377906282815800514\n",
      "link: 4377906282815800514 is complete\n",
      "checking link: 4377906282959500514\n",
      "link: 4377906282959500514 is complete\n",
      "checking link: 4377906282969500514\n",
      "link: 4377906282969500514 is complete\n",
      "checking link: 4377906283141600514\n",
      "link: 4377906283141600514 is complete\n",
      "checking link: 4377906283422600514\n",
      "link: 4377906283422600514 is complete\n",
      "checking link: 4377906283525800514\n",
      "link: 4377906283525800514 is complete\n",
      "checking link: 4377906283759500514\n",
      "link: 4377906283759500514 is complete\n",
      "checking link: 4377906283769500514\n",
      "link: 4377906283769500514 is complete\n",
      "checking link: 4377906283815800514\n",
      "link: 4377906283815800514 is complete\n",
      "checking link: 4377906283959500514\n",
      "link: 4377906283959500514 is complete\n",
      "checking link: 4377906284141600514\n",
      "link: 4377906284141600514 is complete\n",
      "checking link: 4377906284422600514\n",
      "link: 4377906284422600514 is complete\n",
      "checking link: 4377906284514600514\n",
      "link: 4377906284514600514 is complete\n",
      "checking link: 4377906284525800514\n",
      "link: 4377906284525800514 is complete\n",
      "checking link: 4377906284594800514\n",
      "link: 4377906284594800514 is complete\n",
      "checking link: 4377906284653600514\n",
      "link: 4377906284653600514 is complete\n",
      "checking link: 4377906284759500514\n",
      "link: 4377906284759500514 is complete\n",
      "checking link: 4377906284769500514\n",
      "link: 4377906284769500514 is complete\n",
      "checking link: 4377906284838500514\n",
      "link: 4377906284838500514 is complete\n",
      "checking link: 4377906284959500514\n",
      "link: 4377906284959500514 is complete\n",
      "checking link: 4377906285032600514\n",
      "link: 4377906285032600514 is complete\n",
      "checking link: 4377906285041600514\n",
      "link: 4377906285041600514 is complete\n",
      "checking link: 4377906285141600514\n",
      "link: 4377906285141600514 is complete\n",
      "checking link: 4377906285334600514\n",
      "link: 4377906285334600514 is complete\n",
      "checking link: 4377906285343600514\n",
      "link: 4377906285343600514 is complete\n",
      "checking link: 4377906285525800514\n",
      "link: 4377906285525800514 is complete\n",
      "checking link: 4377906285594800514\n",
      "link: 4377906285594800514 is complete\n",
      "checking link: 4377906285681600514\n",
      "link: 4377906285681600514 is complete\n",
      "checking link: 4377906285759500514\n",
      "link: 4377906285759500514 is complete\n",
      "checking link: 4377906286032600514\n",
      "link: 4377906286032600514 is complete\n",
      "checking link: 4377906286041600514\n",
      "link: 4377906286041600514 is complete\n",
      "checking link: 4377906286141600514\n",
      "link: 4377906286141600514 is complete\n",
      "checking link: 4377906286169500514\n",
      "link: 4377906286169500514 is complete\n",
      "checking link: 4377906286334600514\n",
      "link: 4377906286334600514 is complete\n",
      "checking link: 4377906286343600514\n",
      "link: 4377906286343600514 is complete\n",
      "checking link: 4377906286525800514\n",
      "link: 4377906286525800514 is complete\n",
      "checking link: 4377906286681600514\n",
      "link: 4377906286681600514 is complete\n",
      "checking link: 4377906286843600514\n",
      "link: 4377906286843600514 is complete\n",
      "checking link: 4377906287063800514\n",
      "link: 4377906287063800514 is complete\n",
      "checking link: 4377906287141600514\n",
      "link: 4377906287141600514 is complete\n",
      "checking link: 4377906287169500514\n",
      "link: 4377906287169500514 is complete\n",
      "checking link: 4377906287194800514\n",
      "link: 4377906287194800514 is complete\n",
      "checking link: 4377906287243600514\n",
      "link: 4377906287243600514 is complete\n",
      "checking link: 4377906287425800514\n",
      "link: 4377906287425800514 is complete\n",
      "checking link: 4377906287663800514\n",
      "link: 4377906287663800514 is complete\n",
      "checking link: 4377906287863800514\n",
      "link: 4377906287863800514 is complete\n",
      "checking link: 4377906287869500514\n",
      "link: 4377906287869500514 is complete\n",
      "checking link: 4377906287959500514\n",
      "link: 4377906287959500514 is complete\n",
      "checking link: 4377906288041600514\n",
      "link: 4377906288041600514 is complete\n",
      "checking link: 4377906288063800514\n",
      "link: 4377906288063800514 is complete\n",
      "checking link: 4377906288194800514\n",
      "link: 4377906288194800514 is complete\n",
      "checking link: 4377906288234600514\n",
      "link: 4377906288234600514 is complete\n",
      "checking link: 4377906288243600514\n",
      "link: 4377906288243600514 is complete\n",
      "checking link: 4377906288421600514\n",
      "link: 4377906288421600514 is complete\n",
      "checking link: 4377906288425800514\n",
      "link: 4377906288425800514 is complete\n",
      "checking link: 4377906288593600514\n",
      "link: 4377906288593600514 is complete\n",
      "checking link: 4377906288663800514\n",
      "link: 4377906288663800514 is complete\n",
      "checking link: 4377906288738500514\n",
      "link: 4377906288738500514 is complete\n",
      "checking link: 4377906288869500514\n",
      "link: 4377906288869500514 is complete\n",
      "checking link: 4377906288893600514\n",
      "link: 4377906288893600514 is complete\n",
      "checking link: 4377906288959500514\n",
      "link: 4377906288959500514 is complete\n",
      "checking link: 4377906289041600514\n",
      "link: 4377906289041600514 is complete\n",
      "checking link: 4377906289063800514\n",
      "link: 4377906289063800514 is complete\n",
      "checking link: 4377906289141600514\n",
      "link: 4377906289141600514 is complete\n",
      "checking link: 4377906289243600514\n",
      "link: 4377906289243600514 is complete\n",
      "checking link: 4377906289244800514\n",
      "link: 4377906289244800514 is complete\n",
      "checking link: 4377906289425800514\n",
      "link: 4377906289425800514 is complete\n",
      "checking link: 4377906289525800514\n",
      "link: 4377906289525800514 is complete\n",
      "checking link: 4377906289663800514\n",
      "link: 4377906289663800514 is complete\n",
      "checking link: 4377906289813600514\n",
      "link: 4377906289813600514 is complete\n",
      "checking link: 4377906289863800514\n",
      "link: 4377906289863800514 is complete\n",
      "checking link: 4377906289869500514\n",
      "link: 4377906289869500514 is complete\n",
      "checking link: 9377906281555510514\n",
      "link: 9377906281555510514 is complete\n",
      "checking link: 9377906282776510514\n",
      "link: 9377906282776510514 is complete\n",
      "checking link: 9377906283125510514\n",
      "link: 9377906283125510514 is complete\n",
      "checking link: 9377906283776510514\n",
      "link: 9377906283776510514 is complete\n",
      "checking link: 9377906284555510514\n",
      "link: 9377906284555510514 is complete\n",
      "checking link: 9377906285566510514\n",
      "link: 9377906285566510514 is complete\n",
      "checking link: 9377906285615510514\n",
      "link: 9377906285615510514 is complete\n",
      "checking link: 9377906286566510514\n",
      "link: 9377906286566510514 is complete\n",
      "checking link: 9377906286615510514\n",
      "link: 9377906286615510514 is complete\n",
      "checking link: 9377906288175510514\n",
      "link: 9377906288175510514 is complete\n",
      "checking link: 9377906289175510514\n",
      "link: 9377906289175510514 is complete\n"
     ]
    }
   ],
   "source": [
    "check_submission(submission_name, links)"
   ]
  },
  {
   "cell_type": "markdown",
   "metadata": {},
   "source": [
    "# 其他"
   ]
  },
  {
   "cell_type": "code",
   "execution_count": null,
   "metadata": {
    "collapsed": false
   },
   "outputs": [],
   "source": [
    "stmatrix = STMatrix(f['9377906285566510514']['train']['data'].value, \n",
    "                    f['9377906285566510514']['train']['time'].value, \n",
    "                    T=720, CheckComplete=False, start=1)"
   ]
  },
  {
   "cell_type": "code",
   "execution_count": null,
   "metadata": {
    "collapsed": false
   },
   "outputs": [],
   "source": [
    "stmatrix.create_dataset(forward=1, len_closeness=3, \n",
    "                        len_trend=0, TrendInterval=7, len_period=0, PeriodInterval=1, slide=10)"
   ]
  },
  {
   "cell_type": "code",
   "execution_count": null,
   "metadata": {
    "collapsed": false
   },
   "outputs": [],
   "source": [
    "XC, XP, XT, Y, timestamps_Y = stmatrix.create_cv_dataset(datetime(2016,6,3,8), datetime(2016,6,3,9), forward=10, len_closeness=3, len_trend=0, TrendInterval=7, len_period=0, PeriodInterval=1, test=False)"
   ]
  },
  {
   "cell_type": "code",
   "execution_count": null,
   "metadata": {
    "collapsed": false
   },
   "outputs": [],
   "source": [
    "check_submission('credo_20170802.txt', sample_links)\n",
    "# result = pd.read_csv('credo_20170802.txt', delimiter='#', names=['link', 'date', 'period', 'time'], index_col=[\"link\", \"period\"])"
   ]
  },
  {
   "cell_type": "code",
   "execution_count": null,
   "metadata": {
    "collapsed": false
   },
   "outputs": [],
   "source": [
    "sample_links = np.random.choice(f.keys(), 20, replace=False)\n",
    "# sample_links=f.keys()"
   ]
  },
  {
   "cell_type": "code",
   "execution_count": null,
   "metadata": {
    "collapsed": false
   },
   "outputs": [],
   "source": [
    "data = pd.DataFrame(np.vstack([f[link]['train']['data'].value[:, 0] for link in sample_links]).reshape(-1, len(sample_links)), columns=sample_links)"
   ]
  },
  {
   "cell_type": "code",
   "execution_count": null,
   "metadata": {
    "collapsed": false
   },
   "outputs": [],
   "source": [
    "import numpy\n",
    "correlations = data.corr()  #计算变量之间的相关系数矩阵\n",
    "# plot correlation matrix\n",
    "fig = plt.figure() #调用figure创建一个绘图对象\n",
    "ax = fig.add_subplot(111)\n",
    "cax = ax.matshow(correlations, cmap='Blues', vmin=-1, vmax=1)  #绘制热力图，从-1到1\n",
    "fig.colorbar(cax)  #将matshow生成热力图设置为颜色渐变条\n",
    "ticks = numpy.arange(len(sample_links)) #生成0-9，步长为1\n",
    "ax.set_xticks(ticks)  #生成刻度\n",
    "ax.set_yticks(ticks)\n",
    "ax.set_xticklabels(sample_links) #生成x轴标签\n",
    "ax.set_yticklabels(sample_links)\n",
    "plt.show()"
   ]
  },
  {
   "cell_type": "code",
   "execution_count": null,
   "metadata": {
    "collapsed": false
   },
   "outputs": [],
   "source": [
    "correlations"
   ]
  },
  {
   "cell_type": "code",
   "execution_count": null,
   "metadata": {
    "collapsed": false
   },
   "outputs": [],
   "source": [
    "adj[adj.link_ID=='4377906287663800514']"
   ]
  },
  {
   "cell_type": "code",
   "execution_count": null,
   "metadata": {
    "collapsed": false
   },
   "outputs": [],
   "source": [
    "adj[adj.link_ID=='4377906287169500514']"
   ]
  },
  {
   "cell_type": "code",
   "execution_count": null,
   "metadata": {
    "collapsed": false,
    "scrolled": true
   },
   "outputs": [],
   "source": [
    "adj"
   ]
  },
  {
   "cell_type": "code",
   "execution_count": null,
   "metadata": {
    "collapsed": true
   },
   "outputs": [],
   "source": []
  }
 ],
 "metadata": {
  "kernelspec": {
   "display_name": "Python 2",
   "language": "python",
   "name": "python2"
  },
  "language_info": {
   "codemirror_mode": {
    "name": "ipython",
    "version": 2
   },
   "file_extension": ".py",
   "mimetype": "text/x-python",
   "name": "python",
   "nbconvert_exporter": "python",
   "pygments_lexer": "ipython2",
   "version": "2.7.13"
  }
 },
 "nbformat": 4,
 "nbformat_minor": 2
}
