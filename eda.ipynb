{
 "cells": [
  {
   "cell_type": "code",
   "execution_count": null,
   "metadata": {
    "collapsed": true
   },
   "outputs": [],
   "source": [
    "from pyecharts import Graph\n",
    "\n",
    "nodes = [{\"name\": n, \"symbolSize\": info[info.link_ID == n]['width'].values[0]} for n in adj.link_ID.values]\n",
    "\n",
    "links = []\n",
    "for (link, inl, outl) in adj.values:\n",
    "    for ol in outl.split(\"#\"):\n",
    "        links.append({\"source\": link, \"target\": ol, \"value\": info[info.link_ID==link]['length'].values[0]+(0 if ol == '' else info[info.link_ID==ol]['length'].values[0])})\n",
    "    for il in inl.split(\"#\"):\n",
    "        links.append({\"source\": il, \"target\": link, \"value\": info[info.link_ID==link]['length'].values[0]+(0 if il == '' else info[info.link_ID==il]['length'].values[0])})\n",
    "    \n",
    "graph = Graph(\"道路图\", width=1600, height=800)\n",
    "graph.add(\"\", nodes, links, is_label_show=False, repulsion=1000, label_text_color=None, gravity=0.001)\n",
    "# graph.show_config()\n",
    "graph.render()"
   ]
  },
  {
   "cell_type": "code",
   "execution_count": 3,
   "metadata": {
    "collapsed": true
   },
   "outputs": [],
   "source": [
    "import h5py\n",
    "f = h5py.File('travel_time_second.hdf5', 'r')\n",
    "links = f.keys()"
   ]
  },
  {
   "cell_type": "code",
   "execution_count": null,
   "metadata": {
    "collapsed": false
   },
   "outputs": [],
   "source": [
    "import pandas as pd\n",
    "import numpy as np\n",
    "h5 = f[links[10]]['train']\n",
    "train = pd.DataFrame(np.hstack((h5['data'].value, h5['time'].value.reshape(-1, 1))),\n",
    "            columns=['travel_time', 'fill', 'hour', 'time'])\n",
    "train['time'] = pd.to_datetime(train.time)\n",
    "train.head()"
   ]
  },
  {
   "cell_type": "code",
   "execution_count": null,
   "metadata": {
    "collapsed": true
   },
   "outputs": [],
   "source": [
    "train['travel_time'] = train.travel_time.astype(np.float32)\n",
    "train['fill'] = train.fill.astype(np.float32)\n",
    "train.index = train.time"
   ]
  },
  {
   "cell_type": "code",
   "execution_count": null,
   "metadata": {
    "collapsed": false
   },
   "outputs": [],
   "source": [
    "from sklearn.preprocessing import MinMaxScaler\n",
    "scaler = MinMaxScaler(feature_range=(0,1))\n",
    "\n",
    "train['travel_time'] = scaler.fit_transform(train.travel_time)"
   ]
  },
  {
   "cell_type": "code",
   "execution_count": null,
   "metadata": {
    "collapsed": true
   },
   "outputs": [],
   "source": [
    "%matplotlib inline"
   ]
  },
  {
   "cell_type": "code",
   "execution_count": null,
   "metadata": {
    "collapsed": false
   },
   "outputs": [],
   "source": [
    "for day in ['0514', '0521', '0516', '0523']:\n",
    "    train[('2016'+day+'0600'):('2016'+day+'0900')].plot(y=['travel_time', 'fill'], title=day)"
   ]
  },
  {
   "cell_type": "code",
   "execution_count": null,
   "metadata": {
    "collapsed": true
   },
   "outputs": [],
   "source": []
  }
 ],
 "metadata": {
  "kernelspec": {
   "display_name": "Python 2",
   "language": "python",
   "name": "python2"
  },
  "language_info": {
   "codemirror_mode": {
    "name": "ipython",
    "version": 2
   },
   "file_extension": ".py",
   "mimetype": "text/x-python",
   "name": "python",
   "nbconvert_exporter": "python",
   "pygments_lexer": "ipython2",
   "version": "2.7.13"
  }
 },
 "nbformat": 4,
 "nbformat_minor": 2
}
